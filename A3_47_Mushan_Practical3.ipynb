{
  "cells": [
    {
      "cell_type": "markdown",
      "metadata": {
        "id": "KPRp1jma36Yq"
      },
      "source": [
        "### Name: Mushan Khan\n",
        "### A3 - 47"
      ]
    },
    {
      "cell_type": "markdown",
      "metadata": {
        "id": "MIIypp2A3ygy"
      },
      "source": [
        "**Aim**: To implement the Candidate Elimination algorithm on the Enjoy Sports dataset and find the candidate hypothesis.\n",
        "\n",
        "The solution to the problem along with a trace of the algorithm is provided in the pdf, please go through it.\n",
        "\n",
        "Dataset: `enjoysport_yes.csv`"
      ]
    },
    {
      "cell_type": "code",
      "execution_count": 3,
      "metadata": {
        "id": "CYb5fma1riyv"
      },
      "outputs": [],
      "source": [
        "import pandas as pd\n",
        "import numpy as np"
      ]
    },
    {
      "cell_type": "code",
      "execution_count": 4,
      "metadata": {
        "id": "lEcr52nHryGT"
      },
      "outputs": [],
      "source": [
        "df = pd.read_csv('enjoysport_yes.csv')"
      ]
    },
    {
      "cell_type": "code",
      "execution_count": 5,
      "metadata": {
        "colab": {
          "base_uri": "https://localhost:8080/",
          "height": 175
        },
        "id": "NMLROm2Er1Uy",
        "outputId": "e9703078-5067-4d72-c561-db90bd98dbe6"
      },
      "outputs": [
        {
          "data": {
            "text/html": [
              "<div>\n",
              "<style scoped>\n",
              "    .dataframe tbody tr th:only-of-type {\n",
              "        vertical-align: middle;\n",
              "    }\n",
              "\n",
              "    .dataframe tbody tr th {\n",
              "        vertical-align: top;\n",
              "    }\n",
              "\n",
              "    .dataframe thead th {\n",
              "        text-align: right;\n",
              "    }\n",
              "</style>\n",
              "<table border=\"1\" class=\"dataframe\">\n",
              "  <thead>\n",
              "    <tr style=\"text-align: right;\">\n",
              "      <th></th>\n",
              "      <th>sky</th>\n",
              "      <th>air_temp</th>\n",
              "      <th>humidity</th>\n",
              "      <th>wind</th>\n",
              "      <th>water</th>\n",
              "      <th>forecast</th>\n",
              "      <th>enjoy_sport</th>\n",
              "    </tr>\n",
              "  </thead>\n",
              "  <tbody>\n",
              "    <tr>\n",
              "      <th>0</th>\n",
              "      <td>sunny</td>\n",
              "      <td>warm</td>\n",
              "      <td>normal</td>\n",
              "      <td>strong</td>\n",
              "      <td>warm</td>\n",
              "      <td>same</td>\n",
              "      <td>yes</td>\n",
              "    </tr>\n",
              "    <tr>\n",
              "      <th>1</th>\n",
              "      <td>sunny</td>\n",
              "      <td>warm</td>\n",
              "      <td>high</td>\n",
              "      <td>strong</td>\n",
              "      <td>warm</td>\n",
              "      <td>same</td>\n",
              "      <td>yes</td>\n",
              "    </tr>\n",
              "    <tr>\n",
              "      <th>2</th>\n",
              "      <td>rainy</td>\n",
              "      <td>cold</td>\n",
              "      <td>high</td>\n",
              "      <td>strong</td>\n",
              "      <td>warm</td>\n",
              "      <td>change</td>\n",
              "      <td>no</td>\n",
              "    </tr>\n",
              "    <tr>\n",
              "      <th>3</th>\n",
              "      <td>sunny</td>\n",
              "      <td>warm</td>\n",
              "      <td>high</td>\n",
              "      <td>strong</td>\n",
              "      <td>cool</td>\n",
              "      <td>change</td>\n",
              "      <td>yes</td>\n",
              "    </tr>\n",
              "  </tbody>\n",
              "</table>\n",
              "</div>"
            ],
            "text/plain": [
              "     sky air_temp humidity    wind water forecast enjoy_sport\n",
              "0  sunny     warm   normal  strong  warm     same         yes\n",
              "1  sunny     warm     high  strong  warm     same         yes\n",
              "2  rainy     cold     high  strong  warm   change          no\n",
              "3  sunny     warm     high  strong  cool   change         yes"
            ]
          },
          "execution_count": 5,
          "metadata": {},
          "output_type": "execute_result"
        }
      ],
      "source": [
        "df.head()"
      ]
    },
    {
      "cell_type": "code",
      "execution_count": 10,
      "metadata": {
        "colab": {
          "base_uri": "https://localhost:8080/",
          "height": 52
        },
        "id": "TGTXNhZEx1q1",
        "outputId": "ab8aad85-2a45-4da4-c0d1-901836abdbf4"
      },
      "outputs": [
        {
          "name": "stdout",
          "output_type": "stream",
          "text": [
            "Specific Hypothesis: ['sunny' 'warm' '?' 'strong' '?' '?']\n",
            "General Hypothesis: [['sunny', '?', '?', '?', '?', '?'], ['?', 'warm', '?', '?', '?', '?']]\n"
          ]
        }
      ],
      "source": [
        "def candidate_elimination(df):\n",
        "    specific_h = df.iloc[0][:-1].values\n",
        "    general_h = [[\"?\" for _ in range(len(specific_h))] for _ in range(len(specific_h))]\n",
        "\n",
        "    for index, row in df.iterrows():\n",
        "        if row.iloc[-1] == \"yes\":\n",
        "            for i in range(len(specific_h)):\n",
        "                if row.iloc[i] != specific_h[i]:\n",
        "                    specific_h[i] = \"?\"\n",
        "                    general_h[i][i] = \"?\"\n",
        "\n",
        "        else:\n",
        "            for i in range(len(specific_h)):\n",
        "                if row.iloc[i] != specific_h[i]:\n",
        "                    general_h[i][i] = specific_h[i]\n",
        "                else:\n",
        "                    general_h[i][i] = \"?\"\n",
        "\n",
        "    empty = 0\n",
        "    for i in range(len(general_h)):\n",
        "      if (general_h[i] == ['?', '?', '?', '?', '?', '?']):\n",
        "        empty += 1\n",
        "\n",
        "    for i in range(empty):\n",
        "      general_h.remove(['?', '?', '?', '?', '?', '?'])\n",
        "\n",
        "    return specific_h, general_h\n",
        "\n",
        "specific_h, general_h = candidate_elimination(df)\n",
        "print(\"Specific Hypothesis:\", specific_h)\n",
        "print(\"General Hypothesis:\", general_h)"
      ]
    },
    {
      "cell_type": "code",
      "execution_count": null,
      "metadata": {
        "id": "mACOQ6OW0CL0"
      },
      "outputs": [],
      "source": []
    }
  ],
  "metadata": {
    "colab": {
      "provenance": []
    },
    "kernelspec": {
      "display_name": "Python 3",
      "name": "python3"
    },
    "language_info": {
      "codemirror_mode": {
        "name": "ipython",
        "version": 3
      },
      "file_extension": ".py",
      "mimetype": "text/x-python",
      "name": "python",
      "nbconvert_exporter": "python",
      "pygments_lexer": "ipython3",
      "version": "3.11.0"
    }
  },
  "nbformat": 4,
  "nbformat_minor": 0
}
