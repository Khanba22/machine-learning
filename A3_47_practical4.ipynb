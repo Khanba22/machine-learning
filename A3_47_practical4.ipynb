{
 "cells": [
  {
   "cell_type": "markdown",
   "metadata": {},
   "source": [
    "# Mushan Khan\n",
    "## A3-47"
   ]
  },
  {
   "cell_type": "code",
   "execution_count": 30,
   "metadata": {},
   "outputs": [
    {
     "name": "stdout",
     "output_type": "stream",
     "text": [
      "hello world\n"
     ]
    }
   ],
   "source": [
    "print(\"hello world\")"
   ]
  },
  {
   "cell_type": "code",
   "execution_count": 31,
   "metadata": {},
   "outputs": [],
   "source": [
    "import pandas as pd\n",
    "import math as mat"
   ]
  },
  {
   "cell_type": "code",
   "execution_count": 32,
   "metadata": {},
   "outputs": [
    {
     "data": {
      "text/html": [
       "<div>\n",
       "<style scoped>\n",
       "    .dataframe tbody tr th:only-of-type {\n",
       "        vertical-align: middle;\n",
       "    }\n",
       "\n",
       "    .dataframe tbody tr th {\n",
       "        vertical-align: top;\n",
       "    }\n",
       "\n",
       "    .dataframe thead th {\n",
       "        text-align: right;\n",
       "    }\n",
       "</style>\n",
       "<table border=\"1\" class=\"dataframe\">\n",
       "  <thead>\n",
       "    <tr style=\"text-align: right;\">\n",
       "      <th></th>\n",
       "      <th>outlook</th>\n",
       "      <th>temp</th>\n",
       "      <th>humidity</th>\n",
       "      <th>wind</th>\n",
       "      <th>play</th>\n",
       "    </tr>\n",
       "  </thead>\n",
       "  <tbody>\n",
       "    <tr>\n",
       "      <th>0</th>\n",
       "      <td>Sunny</td>\n",
       "      <td>Hot</td>\n",
       "      <td>High</td>\n",
       "      <td>Weak</td>\n",
       "      <td>No</td>\n",
       "    </tr>\n",
       "    <tr>\n",
       "      <th>1</th>\n",
       "      <td>Sunny</td>\n",
       "      <td>Hot</td>\n",
       "      <td>High</td>\n",
       "      <td>Strong</td>\n",
       "      <td>No</td>\n",
       "    </tr>\n",
       "    <tr>\n",
       "      <th>2</th>\n",
       "      <td>Overcast</td>\n",
       "      <td>Hot</td>\n",
       "      <td>High</td>\n",
       "      <td>Weak</td>\n",
       "      <td>Yes</td>\n",
       "    </tr>\n",
       "    <tr>\n",
       "      <th>3</th>\n",
       "      <td>Rain</td>\n",
       "      <td>Mild</td>\n",
       "      <td>High</td>\n",
       "      <td>Weak</td>\n",
       "      <td>Yes</td>\n",
       "    </tr>\n",
       "    <tr>\n",
       "      <th>4</th>\n",
       "      <td>Rain</td>\n",
       "      <td>Cool</td>\n",
       "      <td>Normal</td>\n",
       "      <td>Weak</td>\n",
       "      <td>Yes</td>\n",
       "    </tr>\n",
       "    <tr>\n",
       "      <th>5</th>\n",
       "      <td>Rain</td>\n",
       "      <td>Cool</td>\n",
       "      <td>Normal</td>\n",
       "      <td>Strong</td>\n",
       "      <td>No</td>\n",
       "    </tr>\n",
       "    <tr>\n",
       "      <th>6</th>\n",
       "      <td>Overcast</td>\n",
       "      <td>Cool</td>\n",
       "      <td>Normal</td>\n",
       "      <td>Strong</td>\n",
       "      <td>Yes</td>\n",
       "    </tr>\n",
       "    <tr>\n",
       "      <th>7</th>\n",
       "      <td>Sunny</td>\n",
       "      <td>Mild</td>\n",
       "      <td>High</td>\n",
       "      <td>Weak</td>\n",
       "      <td>No</td>\n",
       "    </tr>\n",
       "    <tr>\n",
       "      <th>8</th>\n",
       "      <td>Sunny</td>\n",
       "      <td>Cool</td>\n",
       "      <td>Normal</td>\n",
       "      <td>Weak</td>\n",
       "      <td>Yes</td>\n",
       "    </tr>\n",
       "    <tr>\n",
       "      <th>9</th>\n",
       "      <td>Rain</td>\n",
       "      <td>Mild</td>\n",
       "      <td>Normal</td>\n",
       "      <td>Weak</td>\n",
       "      <td>Yes</td>\n",
       "    </tr>\n",
       "    <tr>\n",
       "      <th>10</th>\n",
       "      <td>Sunny</td>\n",
       "      <td>Mild</td>\n",
       "      <td>Normal</td>\n",
       "      <td>Strong</td>\n",
       "      <td>Yes</td>\n",
       "    </tr>\n",
       "    <tr>\n",
       "      <th>11</th>\n",
       "      <td>Overcast</td>\n",
       "      <td>Mild</td>\n",
       "      <td>High</td>\n",
       "      <td>Strong</td>\n",
       "      <td>Yes</td>\n",
       "    </tr>\n",
       "  </tbody>\n",
       "</table>\n",
       "</div>"
      ],
      "text/plain": [
       "     outlook  temp humidity    wind play\n",
       "0      Sunny   Hot     High    Weak   No\n",
       "1      Sunny   Hot     High  Strong   No\n",
       "2   Overcast   Hot     High    Weak  Yes\n",
       "3       Rain  Mild     High    Weak  Yes\n",
       "4       Rain  Cool   Normal    Weak  Yes\n",
       "5       Rain  Cool   Normal  Strong   No\n",
       "6   Overcast  Cool   Normal  Strong  Yes\n",
       "7      Sunny  Mild     High    Weak   No\n",
       "8      Sunny  Cool   Normal    Weak  Yes\n",
       "9       Rain  Mild   Normal    Weak  Yes\n",
       "10     Sunny  Mild   Normal  Strong  Yes\n",
       "11  Overcast  Mild     High  Strong  Yes"
      ]
     },
     "execution_count": 32,
     "metadata": {},
     "output_type": "execute_result"
    }
   ],
   "source": [
    "df = pd.read_csv(\"play_tennis.csv\")\n",
    "df = df.drop(\"day\",axis=1)\n",
    "df.head(12)"
   ]
  },
  {
   "cell_type": "code",
   "execution_count": 33,
   "metadata": {},
   "outputs": [],
   "source": [
    "overall = {\n",
    "    \n",
    "}"
   ]
  },
  {
   "cell_type": "code",
   "execution_count": 34,
   "metadata": {},
   "outputs": [
    {
     "data": {
      "text/plain": [
       "'play'"
      ]
     },
     "execution_count": 34,
     "metadata": {},
     "output_type": "execute_result"
    }
   ],
   "source": [
    "columns = df.columns\n",
    "columns[-1]\n"
   ]
  },
  {
   "cell_type": "code",
   "execution_count": 35,
   "metadata": {},
   "outputs": [
    {
     "data": {
      "text/plain": [
       "{'positive': 9, 'negative': 5, 'total': 14}"
      ]
     },
     "execution_count": 35,
     "metadata": {},
     "output_type": "execute_result"
    }
   ],
   "source": [
    "s = {\n",
    "    \"positive\":0,\n",
    "    \"negative\":0,\n",
    "    \"total\":0\n",
    "}\n",
    "for i in df[columns[-1]]:\n",
    "    if i == 'Yes':\n",
    "        s[\"positive\"]+=1\n",
    "    else:\n",
    "        s[\"negative\"]+=1\n",
    "    s[\"total\"]+=1\n",
    "s"
   ]
  },
  {
   "cell_type": "code",
   "execution_count": 36,
   "metadata": {},
   "outputs": [
    {
     "data": {
      "text/plain": [
       "0.9402859586706311"
      ]
     },
     "execution_count": 36,
     "metadata": {},
     "output_type": "execute_result"
    }
   ],
   "source": [
    "p_ratio = s['positive'] / s['total']\n",
    "n_ratio = s[\"negative\"] / s['total']\n",
    "enthropy_dataset = -(p_ratio*mat.log2(p_ratio) + n_ratio*mat.log2(n_ratio))\n",
    "enthropy_dataset"
   ]
  },
  {
   "cell_type": "code",
   "execution_count": null,
   "metadata": {},
   "outputs": [],
   "source": []
  },
  {
   "cell_type": "code",
   "execution_count": 37,
   "metadata": {},
   "outputs": [
    {
     "name": "stdout",
     "output_type": "stream",
     "text": [
      "{'outlook': {'Sunny': {'positive': 2, 'negative': 3, 'total': 5}, 'Overcast': {'positive': 4, 'negative': 0, 'total': 4}, 'Rain': {'positive': 3, 'negative': 2, 'total': 5}}, 'temp': {'Hot': {'positive': 2, 'negative': 2, 'total': 4}, 'Mild': {'positive': 4, 'negative': 2, 'total': 6}, 'Cool': {'positive': 3, 'negative': 1, 'total': 4}}, 'humidity': {'High': {'positive': 3, 'negative': 4, 'total': 7}, 'Normal': {'positive': 6, 'negative': 1, 'total': 7}}, 'wind': {'Weak': {'positive': 6, 'negative': 2, 'total': 8}, 'Strong': {'positive': 3, 'negative': 3, 'total': 6}}}\n"
     ]
    }
   ],
   "source": [
    "feature_data = {column: {} for column in df.columns[:-1]}\n",
    "columns = df.columns[:-1]\n",
    "\n",
    "for index, row in df.iterrows():\n",
    "    if row.iloc[-1] == 'Yes':\n",
    "        for i in range(len(feature_data.keys())):\n",
    "            column_name = columns[i]\n",
    "            if row.iloc[i] not in feature_data[column_name]:\n",
    "                feature_data[column_name][row.iloc[i]] = {\n",
    "                    \"positive\": 1,\n",
    "                    \"negative\": 0,\n",
    "                    \"total\": 1\n",
    "                }\n",
    "            else:\n",
    "                feature_data[column_name][row.iloc[i]][\"positive\"] += 1\n",
    "                feature_data[column_name][row.iloc[i]][\"total\"] += 1\n",
    "    else:\n",
    "        for i in range(len(feature_data.keys())):\n",
    "            column_name = columns[i]\n",
    "            if row.iloc[i] not in feature_data[column_name]:\n",
    "                feature_data[column_name][row.iloc[i]] = {\n",
    "                    \"positive\": 0,\n",
    "                    \"negative\": 1,\n",
    "                    \"total\": 1\n",
    "                }\n",
    "            else:\n",
    "                feature_data[column_name][row.iloc[i]][\"negative\"] += 1\n",
    "                feature_data[column_name][row.iloc[i]][\"total\"] += 1\n",
    "\n",
    "# Print the feature_data dictionary\n",
    "print(feature_data)"
   ]
  },
  {
   "cell_type": "code",
   "execution_count": 42,
   "metadata": {},
   "outputs": [
    {
     "name": "stdout",
     "output_type": "stream",
     "text": [
      "Entropy of outlook with value Sunny is 0.9709505944546686\n",
      "Entropy of outlook with value Overcast is 0.0\n",
      "Entropy of outlook with value Rain is 0.9709505944546686\n",
      "Weighted Entropy for Feature outlook: 0.6935361388961918\n",
      "Information Gain For outlook: 0.24674981977443933\n",
      "Entropy of temp with value Hot is 1.0\n",
      "Entropy of temp with value Mild is 0.9182958340544896\n",
      "Entropy of temp with value Cool is 0.8112781244591328\n",
      "Weighted Entropy for Feature temp: 0.9110633930116763\n",
      "Information Gain For temp: 0.02922256565895487\n",
      "Entropy of humidity with value High is 0.9852281360342516\n",
      "Entropy of humidity with value Normal is 0.5916727785823275\n",
      "Weighted Entropy for Feature humidity: 0.7884504573082896\n",
      "Information Gain For humidity: 0.15183550136234159\n",
      "Entropy of wind with value Weak is 0.8112781244591328\n",
      "Entropy of wind with value Strong is 1.0\n",
      "Weighted Entropy for Feature wind: 0.8921589282623617\n",
      "Information Gain For wind: 0.04812703040826949\n",
      "Root Attribute of Tree is outlook\n"
     ]
    }
   ],
   "source": [
    "root = None\n",
    "maxVal = -100000000000\n",
    "for feature in feature_data:\n",
    "    values = feature_data[feature]\n",
    "    weighted = 0\n",
    "    entropy_value = 0\n",
    "    for key in values:\n",
    "        key_data = values[key]\n",
    "        p_ratio = key_data[\"positive\"] / key_data[\"total\"] if key_data[\"total\"] != 0 else 0\n",
    "        n_ratio = key_data[\"negative\"] / key_data[\"total\"] if key_data[\"total\"] != 0 else 0\n",
    "        attributeEnthropy = 0\n",
    "        if p_ratio > 0:\n",
    "            attributeEnthropy -= p_ratio * mat.log2(p_ratio)\n",
    "        if n_ratio > 0:\n",
    "            attributeEnthropy -= n_ratio * mat.log2(n_ratio)\n",
    "        entropy_value+=attributeEnthropy\n",
    "        weighted+=key_data[\"total\"]/s[\"total\"]*attributeEnthropy\n",
    "        print(f\"Entropy of {feature} with value {key} is {attributeEnthropy}\")\n",
    "    print(f\"Weighted Entropy for Feature {feature}: {weighted}\")\n",
    "    info_gain = enthropy_dataset - weighted\n",
    "    if info_gain > maxVal:\n",
    "        maxVal = info_gain\n",
    "        root = feature\n",
    "    print(f\"Information Gain For {feature}: {info_gain}\")\n",
    "print(f\"Root Attribute of Tree is {root}\")"
   ]
  },
  {
   "cell_type": "code",
   "execution_count": null,
   "metadata": {},
   "outputs": [],
   "source": []
  },
  {
   "cell_type": "code",
   "execution_count": null,
   "metadata": {},
   "outputs": [],
   "source": []
  }
 ],
 "metadata": {
  "kernelspec": {
   "display_name": "Python 3",
   "language": "python",
   "name": "python3"
  },
  "language_info": {
   "codemirror_mode": {
    "name": "ipython",
    "version": 3
   },
   "file_extension": ".py",
   "mimetype": "text/x-python",
   "name": "python",
   "nbconvert_exporter": "python",
   "pygments_lexer": "ipython3",
   "version": "3.11.0"
  }
 },
 "nbformat": 4,
 "nbformat_minor": 2
}
